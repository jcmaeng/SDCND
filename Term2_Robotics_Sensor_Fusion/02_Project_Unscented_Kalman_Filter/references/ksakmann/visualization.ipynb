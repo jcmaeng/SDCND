{
 "cells": [
  {
   "cell_type": "code",
   "execution_count": 117,
   "metadata": {
    "collapsed": true
   },
   "outputs": [],
   "source": [
    "import numpy as np\n",
    "import matplotlib.pyplot as plt\n",
    "import pandas as pd"
   ]
  },
  {
   "cell_type": "code",
   "execution_count": 138,
   "metadata": {
    "collapsed": false
   },
   "outputs": [],
   "source": [
    "df = pd.read_table('./build/output1.txt', sep='\\t')\n",
    "df2 = pd.read_table('./build/output2.txt', sep='\\t')"
   ]
  },
  {
   "cell_type": "code",
   "execution_count": 139,
   "metadata": {
    "collapsed": false
   },
   "outputs": [
    {
     "data": {
      "text/html": [
       "<div>\n",
       "<table border=\"1\" class=\"dataframe\">\n",
       "  <thead>\n",
       "    <tr style=\"text-align: right;\">\n",
       "      <th></th>\n",
       "      <th>px</th>\n",
       "      <th>py</th>\n",
       "      <th>v</th>\n",
       "      <th>yaw_angle</th>\n",
       "      <th>yaw_rate</th>\n",
       "      <th>px_measured</th>\n",
       "      <th>py_measured</th>\n",
       "      <th>px_true</th>\n",
       "      <th>py_true</th>\n",
       "      <th>vx_true</th>\n",
       "      <th>vy_true</th>\n",
       "      <th>NIS</th>\n",
       "    </tr>\n",
       "  </thead>\n",
       "  <tbody>\n",
       "    <tr>\n",
       "      <th>0</th>\n",
       "      <td>8.46292</td>\n",
       "      <td>0.243462</td>\n",
       "      <td>3.040350</td>\n",
       "      <td>0.000000</td>\n",
       "      <td>0.000000</td>\n",
       "      <td>8.46292</td>\n",
       "      <td>0.243462</td>\n",
       "      <td>8.60</td>\n",
       "      <td>0.25</td>\n",
       "      <td>-3.00029</td>\n",
       "      <td>0.0</td>\n",
       "      <td>0.000000</td>\n",
       "    </tr>\n",
       "    <tr>\n",
       "      <th>1</th>\n",
       "      <td>8.45053</td>\n",
       "      <td>0.251376</td>\n",
       "      <td>3.035060</td>\n",
       "      <td>0.000682</td>\n",
       "      <td>0.000030</td>\n",
       "      <td>8.44818</td>\n",
       "      <td>0.251553</td>\n",
       "      <td>8.45</td>\n",
       "      <td>0.25</td>\n",
       "      <td>-3.00027</td>\n",
       "      <td>0.0</td>\n",
       "      <td>0.011341</td>\n",
       "    </tr>\n",
       "    <tr>\n",
       "      <th>2</th>\n",
       "      <td>8.47407</td>\n",
       "      <td>0.246584</td>\n",
       "      <td>2.523810</td>\n",
       "      <td>-0.034184</td>\n",
       "      <td>-0.004335</td>\n",
       "      <td>8.56759</td>\n",
       "      <td>0.241943</td>\n",
       "      <td>8.45</td>\n",
       "      <td>0.25</td>\n",
       "      <td>0.00000</td>\n",
       "      <td>0.0</td>\n",
       "      <td>1.045560</td>\n",
       "    </tr>\n",
       "    <tr>\n",
       "      <th>3</th>\n",
       "      <td>8.50340</td>\n",
       "      <td>0.250353</td>\n",
       "      <td>2.439150</td>\n",
       "      <td>-0.012079</td>\n",
       "      <td>-0.001708</td>\n",
       "      <td>8.45582</td>\n",
       "      <td>0.253997</td>\n",
       "      <td>8.45</td>\n",
       "      <td>0.25</td>\n",
       "      <td>0.00000</td>\n",
       "      <td>0.0</td>\n",
       "      <td>0.202263</td>\n",
       "    </tr>\n",
       "    <tr>\n",
       "      <th>4</th>\n",
       "      <td>8.36985</td>\n",
       "      <td>0.235506</td>\n",
       "      <td>0.177498</td>\n",
       "      <td>-0.117333</td>\n",
       "      <td>-0.034782</td>\n",
       "      <td>8.42544</td>\n",
       "      <td>0.254042</td>\n",
       "      <td>8.35</td>\n",
       "      <td>0.25</td>\n",
       "      <td>-1.81979</td>\n",
       "      <td>0.0</td>\n",
       "      <td>10.705600</td>\n",
       "    </tr>\n",
       "  </tbody>\n",
       "</table>\n",
       "</div>"
      ],
      "text/plain": [
       "        px        py         v  yaw_angle  yaw_rate  px_measured  py_measured  \\\n",
       "0  8.46292  0.243462  3.040350   0.000000  0.000000      8.46292     0.243462   \n",
       "1  8.45053  0.251376  3.035060   0.000682  0.000030      8.44818     0.251553   \n",
       "2  8.47407  0.246584  2.523810  -0.034184 -0.004335      8.56759     0.241943   \n",
       "3  8.50340  0.250353  2.439150  -0.012079 -0.001708      8.45582     0.253997   \n",
       "4  8.36985  0.235506  0.177498  -0.117333 -0.034782      8.42544     0.254042   \n",
       "\n",
       "   px_true  py_true  vx_true  vy_true        NIS  \n",
       "0     8.60     0.25 -3.00029      0.0   0.000000  \n",
       "1     8.45     0.25 -3.00027      0.0   0.011341  \n",
       "2     8.45     0.25  0.00000      0.0   1.045560  \n",
       "3     8.45     0.25  0.00000      0.0   0.202263  \n",
       "4     8.35     0.25 -1.81979      0.0  10.705600  "
      ]
     },
     "execution_count": 139,
     "metadata": {},
     "output_type": "execute_result"
    }
   ],
   "source": [
    "df.head(n=5)"
   ]
  },
  {
   "cell_type": "code",
   "execution_count": 189,
   "metadata": {
    "collapsed": false
   },
   "outputs": [],
   "source": [
    "fig = plt.figure(figsize=(14, 6))\n",
    "fig.suptitle('Unscented Kalman Filter', fontsize=20, fontweight='bold')\n",
    "\n",
    "ax = fig.add_subplot(121)\n",
    "fig.subplots_adjust(top=0.85)\n",
    "ax.set_title('Dataset 1', fontsize=18, fontweight='bold')\n",
    "ax.set_xlabel('x')\n",
    "ax.set_ylabel('y')\n",
    "ax.scatter(df[\"px_true\"],df[\"py_true\"],alpha=0.2, label = \"ground truth\")\n",
    "ax.scatter(df[\"px\"],df[\"py\"],alpha=0.3,marker='x',c='r', label = \"UKF\")\n",
    "ax.legend(loc='upper left')\n",
    "\n",
    "ax = fig.add_subplot(122)\n",
    "fig.subplots_adjust(top=0.85)\n",
    "ax.set_title('Dataset 2', fontsize=18, fontweight='bold')\n",
    "ax.set_xlabel('x')\n",
    "ax.set_ylabel('y')\n",
    "ax.scatter(df2[\"px_true\"],df2[\"py_true\"],alpha=0.2, label = \"ground truth\")\n",
    "ax.scatter(df2[\"px\"],df2[\"py\"],alpha=0.3,marker='x',c='r', label = \"UKF\")\n",
    "ax.legend(loc='upper left')\n",
    "\n",
    "\n",
    "plt.savefig('images/position.png')\n",
    "#plt.show()\n"
   ]
  },
  {
   "cell_type": "code",
   "execution_count": 192,
   "metadata": {
    "collapsed": false
   },
   "outputs": [],
   "source": [
    "fig = plt.figure(figsize=(14, 3))\n",
    "fig.suptitle('NIS', fontsize=20, fontweight='bold')\n",
    "\n",
    "ax = fig.add_subplot(121)\n",
    "fig.subplots_adjust(top=0.85)\n",
    "ax.set_title('Dataset 1', fontsize=18, fontweight='bold')\n",
    "ax.set_xlabel('time')\n",
    "ax.set_ylabel('chi2')\n",
    "ax.plot(df['NIS'])\n",
    "ax.plot((0, 1400), (7, 7), 'k-', linewidth=3, label = '7')\n",
    "ax.legend(loc='upper left')\n",
    "ax.axis([0, 1224 , 0, 35])\n",
    "\n",
    "ax = fig.add_subplot(122)\n",
    "fig.subplots_adjust(top=0.85)\n",
    "ax.set_title('Dataset 2', fontsize=18, fontweight='bold')\n",
    "ax.set_xlabel('time')\n",
    "ax.set_ylabel('chi2')\n",
    "ax.plot(df2['NIS'])\n",
    "ax.plot((0, 200), (7, 7), 'k-', linewidth=3, label = '7')\n",
    "ax.legend(loc='upper left')\n",
    "ax.axis([0, 200 , 0, 35])\n",
    "plt.savefig('images/NIS.png')\n",
    "#plt.show()"
   ]
  },
  {
   "cell_type": "code",
   "execution_count": 193,
   "metadata": {
    "collapsed": false
   },
   "outputs": [
    {
     "data": {
      "text/plain": [
       "1224"
      ]
     },
     "execution_count": 193,
     "metadata": {},
     "output_type": "execute_result"
    }
   ],
   "source": [
    "len(df['NIS'])"
   ]
  },
  {
   "cell_type": "code",
   "execution_count": 194,
   "metadata": {
    "collapsed": false
   },
   "outputs": [
    {
     "data": {
      "text/plain": [
       "0.049019607843137254"
      ]
     },
     "execution_count": 194,
     "metadata": {},
     "output_type": "execute_result"
    }
   ],
   "source": [
    "len(df[df['NIS']>7.8])/len(df['NIS'])"
   ]
  },
  {
   "cell_type": "code",
   "execution_count": null,
   "metadata": {
    "collapsed": true
   },
   "outputs": [],
   "source": []
  }
 ],
 "metadata": {
  "anaconda-cloud": {},
  "kernelspec": {
   "display_name": "Python [conda env:carnd-term1]",
   "language": "python",
   "name": "conda-env-carnd-term1-py"
  },
  "language_info": {
   "codemirror_mode": {
    "name": "ipython",
    "version": 3
   },
   "file_extension": ".py",
   "mimetype": "text/x-python",
   "name": "python",
   "nbconvert_exporter": "python",
   "pygments_lexer": "ipython3",
   "version": "3.5.2"
  }
 },
 "nbformat": 4,
 "nbformat_minor": 1
}
