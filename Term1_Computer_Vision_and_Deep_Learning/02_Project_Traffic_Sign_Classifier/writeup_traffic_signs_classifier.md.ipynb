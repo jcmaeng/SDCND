{
 "cells": [
  {
   "cell_type": "markdown",
   "metadata": {},
   "source": [
    "# **Term1-Project 2 : Traffic Sign Recognition** \n",
    "\n",
    "---\n",
    "\n",
    "**Build a Traffic Sign Recognition Project**\n",
    "\n",
    "The goals / steps of this project are the following:\n",
    "* Load the data set (see below for links to the project data set)\n",
    "* Explore, summarize and visualize the data set\n",
    "* Design, train and test a model architecture\n",
    "* Use the model to make predictions on new images\n",
    "* Analyze the softmax probabilities of the new images\n",
    "* Summarize the results with a written report"
   ]
  },
  {
   "cell_type": "markdown",
   "metadata": {},
   "source": [
    "## Rubric Points\n",
    "### Here I will consider the [rubric points](https://review.udacity.com/#!/rubrics/481/view) individually and describe how I addressed each point in my implementation.  \n",
    "\n",
    "---\n",
    "### Writeup / README\n",
    "\n",
    "#### 1. Provide a Writeup / README that includes all the rubric points and how you addressed each one. You can submit your writeup as markdown or pdf. You can use this template as a guide for writing the report. The submission includes the project code.\n",
    "\n",
    "You're reading it! and here is a link to my [project code](./Traffic_Sign_Classifier.ipynb)"
   ]
  },
  {
   "cell_type": "markdown",
   "metadata": {},
   "source": [
    "### Data Set Summary & Exploration\n",
    "\n",
    "#### 1. Provide a basic summary of the data set. In the code, the analysis should be done using python, numpy and/or pandas methods rather than hardcoding results manually.\n",
    "\n",
    "I used the numpy library to calculate summary statistics of the traffic\n",
    "signs data set:\n",
    "\n",
    "* The size of training set is 34799\n",
    "* The size of the validation set is 4410\n",
    "* The size of test set is 12630\n",
    "* The shape of a traffic sign image is (32, 32, 3)\n",
    "* The number of unique classes/labels in the data set is 43"
   ]
  },
  {
   "cell_type": "markdown",
   "metadata": {},
   "source": [
    "#### 2. Include an exploratory visualization of the dataset.\n",
    "\n",
    "Here is an exploratory visualization of the data set. \n",
    "It is a line chart showing percentage of each class in train,validation and test dataset.\n",
    "\n",
    "![Class distribution](./examples/class_distribution.png)"
   ]
  },
  {
   "cell_type": "markdown",
   "metadata": {},
   "source": [
    "### Design and Test a Model Architecture\n",
    "\n",
    "#### 1. Describe how you preprocessed the image data. What techniques were chosen and why did you choose these techniques? Consider including images showing the output of each preprocessing technique. Pre-processing refers to techniques such as converting to grayscale, normalization, etc. (OPTIONAL: As described in the \"Stand Out Suggestions\" part of the rubric, if you generated additional data for training, describe why you decided to generate additional data, how you generated the data, and provide example images of the additional data. Then describe the characteristics of the augmented training set like number of images in the set, number of images for each class, etc.)\n",
    "\n",
    "\n",
    "I just did normalization for preprocessing because I think other pre-processing is just like a kind of feature engineering. In my opinion , preprocessing is not an essential technique except normalization."
   ]
  },
  {
   "cell_type": "markdown",
   "metadata": {},
   "source": [
    "#### 2. Describe what your final model architecture looks like including model type, layers, layer sizes, connectivity, etc.) Consider including a diagram and/or table describing the final model.\n",
    "\n",
    "My final model consisted of the following layers:\n",
    "\n",
    "| Layer         \t\t|     Description\t        \t\t\t\t\t| \n",
    "|:---------------------:|:---------------------------------------------:| \n",
    "| Input          \t\t| 32x32x3 RGB image   \t\t\t\t\t\t\t| \n",
    "| Convolution      \t| 5x5x3, 1x1 stride, same padding, outputs 28x28x10 \t|\n",
    "| ReLU\t\t\t\t\t|\t\t\t\t\t\t\t\t\t\t\t\t|\n",
    "| pooling\t      \t| k=2 , 2x2 stride,  outputs 14x14x10 \t\t\t\t|\n",
    "| Convolution \t    | 5x5x10, 1x1 stride, same padding, outputs 10x10x16|\n",
    "| ReLU\t\t\t\t\t|\t\t\t\t\t\t\t\t\t\t\t\t|\n",
    "| pooling\t      \t| k=2 , 2x2 stride,  outputs 5x5x16 \t\t\t\t|\n",
    "| Fully connected\t\t| Input = 400. Output = 120        \t\t\t\t\t\t\t\t\t|\n",
    "| Fully connected\t\t| Input = 120. Output = 84        \t\t\t\t\t\t\t\t\t|\n",
    "| Fully connected\t\t| Input = 84. Output = 43        \t\t\t\t\t\t\t\t\t|"
   ]
  },
  {
   "cell_type": "markdown",
   "metadata": {},
   "source": [
    "#### 3. Describe how you trained your model. The discussion can include the type of optimizer, the batch size, number of epochs and any hyperparameters such as learning rate.\n",
    "\n",
    "To train the model, I modified basic LeNet architecture and tweaked learning rate,epoch and batch size.\n",
    "\n",
    "* Increaseed depth of input convolution layer 6 to 10.\n",
    "* learning rate = 0.005\n",
    "* BATCH_SIZE = 256\n",
    "* EPOCHS = 50\n",
    "\n",
    "**NOTE : ** _Epoch was the most importance factor in my training model._"
   ]
  },
  {
   "cell_type": "markdown",
   "metadata": {},
   "source": [
    "#### 4. Describe the approach taken for finding a solution and getting the validation set accuracy to be at least 0.93. Include in the discussion the results on the training, validation and test sets and where in the code these were calculated. Your approach may have been an iterative process, in which case, outline the steps you took to get to the final solution and why you chose those steps. Perhaps your solution involved an already well known implementation or architecture. In this case, discuss why you think the architecture is suitable for the current problem.\n",
    "\n",
    "My final model results were:\n",
    "* training set accuracy of 0.998\n",
    "* validation set accuracy of 0.936 \n",
    "* test set accuracy of 0.931\n",
    "\n",
    "If a well known architecture was chosen:\n",
    "* What architecture was chosen? \n",
    "  : LeNet applied to MNIST\n",
    "* Why did you believe it would be relevant to the traffic sign application?\n",
    "  : I thoght classification of MNIST dataset and traffic sign is very simlilar.\n",
    "    So, I had a confidence that LeNet architecture wil show accuaray more than 0.9\n",
    "* How does the final model's accuracy on the training, validation and test set provide evidence that the model is working well?\n",
    " : After training model , it showed pretty good performance on trainig and vailiation dataset.\n",
    "   I've finally tested it on test dataset which is never used during training process and got a accuracy 0.93.\n",
    "   This means my model is working well on new data."
   ]
  },
  {
   "cell_type": "markdown",
   "metadata": {},
   "source": [
    "### Test a Model on New Images\n",
    "\n",
    "####1. Choose five German traffic signs found on the web and provide them in the report. For each image, discuss what quality or qualities might be difficult to classify.\n",
    "\n",
    "Here are six German traffic signs that I found on the web:\n",
    "![Fig 1.](./web_test_images/test01_c1.JPG)\n",
    "![Fig 2.](./web_test_images/test02_c8.JPG)\n",
    "![Fig 3.](./web_test_images/test03_c17.JPG)\n",
    "![Fig 4.](./web_test_images/test04_c28.JPG)\n",
    "![Fig 5.](./web_test_images/test05_c23.JPG)\n",
    "![Fig 6.](./web_test_images/test06_c14.JPG)\n",
    "\n",
    "The **second, fouth, fifth image** might be difficult to classify because they were somewhat rotated."
   ]
  },
  {
   "cell_type": "markdown",
   "metadata": {},
   "source": [
    "#### 2. Discuss the model's predictions on these new traffic signs and compare the results to predicting on the test set. At a minimum, discuss what the predictions were, the accuracy on these new predictions, and compare the accuracy to the accuracy on the test set (OPTIONAL: Discuss the results in more detail as described in the \"Stand Out Suggestions\" part of the rubric).\n",
    "\n",
    "Here are the results of the prediction:\n",
    "\n",
    "| Image\t\t\t        |     Prediction\t        \t\t\t\t\t| \n",
    "|:---------------------:|:---------------------------------------------:|\n",
    "| 30 km/h\t      \t\t| 30 km/h\t\t\t\t\t \t\t\t\t|\n",
    "| 120 km/h\t      \t\t| No vehicles\t\t\t\t\t \t\t\t\t|\n",
    "| No entry    \t\t\t| No entry \t\t\t\t\t\t\t\t\t\t|\n",
    "| Children Crossing\t\t\t\t\t| No passing\t\t\t\t\t\t\t\t\t\t\t|\n",
    "| Slippery Road\t\t\t| No passing for vehicles over 3.5 metric tons      \t\t\t\t\t\t\t|\n",
    "| Stop Sign      \t\t| Stop sign   \t\t\t\t\t\t\t\t\t| \n",
    "\n",
    "The model was able to correctly guess 6 of the 3 traffic signs, which gives an accuracy of 50%. \n",
    "This is very low compared to training accuracy.\n",
    "The reason is\n",
    "* When I resized the image to 32x32 , It was even difficult for me to classify them.(especially fifth image)\n",
    "  I thought if I increase input layer more than 32x32 , accuracy will go higher.\n",
    "* Failed image were all somewhat rotated. I guess in my training set there weren't much rotated image.\n",
    "  This will be improved if I train model with more rotated images."
   ]
  },
  {
   "cell_type": "markdown",
   "metadata": {},
   "source": [
    "#### 3. Describe how certain the model is when predicting on each of the five new images by looking at the softmax probabilities for each prediction. Provide the top 5 softmax probabilities for each image along with the sign type of each probability. (OPTIONAL: as described in the \"Stand Out Suggestions\" part of the rubric, visualizations can also be provided such as bar charts)\n",
    "\n",
    "The code for making predictions on my final model is located in the 28th cell of the Ipython notebook.\n",
    "\n",
    "For the first image, the model is relatively sure that this is a 30km/h speed limit sign (probability of 1.0), and the image does contain a 30km/h speed limit sign. The top five soft max probabilities were\n",
    "\n",
    "| Probability         \t|     Prediction\t        \t\t\t\t\t| \n",
    "|:---------------------:|:---------------------------------------------:| \n",
    "| 1.0         \t\t\t| Speed limit (30km/h)   \t\t\t\t\t\t\t\t\t| \n",
    "| 0     \t\t\t\t| Speed limit (20km/h) \t\t\t\t\t\t\t\t\t\t|\n",
    "| 0\t\t\t\t\t| Speed limit (50km/h)\t\t\t\t\t\t\t\t\t\t\t|\n",
    "| 0\t      \t\t\t| Speed limit (60km/h)\t\t\t\t\t \t\t\t\t|\n",
    "| 0\t\t\t\t    | Speed limit (70km/h)      \t\t\t\t\t\t\t|"
   ]
  },
  {
   "cell_type": "markdown",
   "metadata": {},
   "source": [
    "For the second image the model is relatively sure that this is a No vehicles sign (probability of 1.0), and the image does contain a no entry sign. The top five soft max probabilities were\n",
    "\n",
    "| Probability         \t|     Prediction\t        \t\t\t\t\t| \n",
    "|:---------------------:|:---------------------------------------------:| \n",
    "| 1.0         \t\t\t| No vehicles   \t\t\t\t\t\t\t\t| \n",
    "| 7.03564404e-14     \t\t\t\t| Roundabout mandatory\t\t\t\t|\n",
    "| 1.42534168e-31\t\t\t\t\t| Speed limit (50km/h)\t\t\t\t|\n",
    "| 1.66132102e-32\t      \t\t\t| End of no passing\t \t\t\t\t|\n",
    "| 1.03108920e-32\t\t\t\t    | Keep right  \t\t\t\t\t\t|"
   ]
  },
  {
   "cell_type": "markdown",
   "metadata": {},
   "source": [
    "For the third image the model is relatively sure that this is a No entry sign (probability of 1.0), and the image does contain a no entry sign. The top five soft max probabilities were\n",
    "\n",
    "| Probability         \t|     Prediction\t        \t\t\t\t\t| \n",
    "|:---------------------:|:---------------------------------------------:| \n",
    "| 1.0         \t\t\t| no entry   \t\t\t\t\t\t\t\t\t| \n",
    "| 0     \t\t\t\t| Speed limit (20km/h) \t\t\t\t\t\t\t\t\t\t|\n",
    "| 0\t\t\t\t\t| Speed limit (50km/h)\t\t\t\t\t\t\t\t\t\t\t|\n",
    "| 0\t      \t\t\t| Speed limit (60km/h)\t\t\t\t\t \t\t\t\t|\n",
    "| 0\t\t\t\t    | Speed limit (70km/h)      \t\t\t\t\t\t\t|\n",
    "\n",
    "For the fouth image the model is relatively sure that this is a No passing sign (probability of 0.99), and the image does contain a Children crossing sign. The top five soft max probabilities were\n",
    "\n",
    "| Probability         \t|     Prediction\t        \t\t\t\t\t| \n",
    "|:---------------------:|:---------------------------------------------:| \n",
    "| 9.99389410e-01         \t\t\t| No passing   \t\t\t\t\t\t\t\t\t| \n",
    "| 7.03564404e-14     \t\t\t\t| Bicycles crossing\t\t\t\t\t\t\t\t\t\t|\n",
    "| 1.42534168e-31\t\t\t\t\t| Go straight or right\t\t\t\t\t\t\t\t\t\t\t|\n",
    "| 1.66132102e-32\t      \t\t\t| Keep right\t\t\t\t \t\t\t\t|\n",
    "| 1.03108920e-32\t\t\t\t    | Slippery road   |\n",
    "\n",
    "For the fifth image the model is relatively sure that this is a No passing sign (probability of 0.99), and the image does contain a Slippery road sign. The top five soft max probabilities were\n",
    "\n",
    "| Probability         \t|     Prediction\t        \t\t\t\t\t| \n",
    "|:---------------------:|:---------------------------------------------:| \n",
    "| 9.99389410e-01         \t\t\t| No passing   \t\t\t\t\t\t\t\t\t| \n",
    "| 5.95806169e-28    \t\t\t\t|Road work\t\t\t\t\t\t\t\t\t|\n",
    "| 1.96850534e-34\t\t\t\t\t| Speed limit (120km/h)\t\t\t\t\t\t\t\t\t\t\t|\n",
    "| 0      \t\t\t| Speed limit (20km/h)\t\t\t\t \t\t\t\t|\n",
    "| 0\t\t\t\t    | Speed limit (30km/h)   |\n",
    "\n",
    "For the sixth image the model is relatively sure that this is a Stop sign (probability of 1.0), and the image does contain a Stop sign. The top five soft max probabilities were\n",
    "\n",
    "| Probability         \t|     Prediction\t        \t\t\t\t\t| \n",
    "|:---------------------:|:---------------------------------------------:| \n",
    "| 1.0         \t\t\t| Stop   \t\t\t\t\t\t\t\t\t| \n",
    "| 0     \t\t\t\t| Speed limit (20km/h) \t\t\t\t\t\t\t\t\t\t|\n",
    "| 0\t\t\t\t\t| Speed limit (50km/h)\t\t\t\t\t\t\t\t\t\t\t|\n",
    "| 0\t      \t\t\t| Speed limit (60km/h)\t\t\t\t\t \t\t\t\t|\n",
    "| 0\t\t\t\t    | Speed limit (70km/h)      \t\t\t\t\t\t\t|"
   ]
  },
  {
   "cell_type": "markdown",
   "metadata": {},
   "source": [
    "\n",
    "\n",
    "### (Optional) Visualizing the Neural Network (See Step 4 of the Ipython notebook for more details)\n"
   ]
  },
  {
   "cell_type": "markdown",
   "metadata": {
    "collapsed": true
   },
   "source": [
    "#### Original Image\n",
    "![Fig 1.](./feature_map_plots/test_image.png)\n",
    "\n",
    "#### Convolution Layer 1 feature maps\n",
    "![Fig 1.](./feature_map_plots/conv_layer1_feature_map.png)\n",
    "\n",
    "#### Convolution Layer 2 feature maps\n",
    "![Fig 1.](./feature_map_plots/conv_layer2_feature_map.png)"
   ]
  },
  {
   "cell_type": "markdown",
   "metadata": {},
   "source": [
    "#### 1. Discuss the visual output of your trained network's feature maps. What characteristics did the neural network use to make classifications?\n",
    "\n",
    "* Automatic gray transform :  Convolution Layer 1 feature maps shows that this CNN is interested in shape and gradient of image.\n",
    "It looks like color is not so important. I can say CNN does gray transform from color image so there is no great reason to preprocess 'gray transforming'.\n",
    "\n",
    "* Disappearing circle shape in Convolution Layer 2 feature maps : In Convolution Layer 1 feature maps , I am able to see some circle shape related result but in layer 2 result It's hard to say network detecting circle shape.\n",
    "\n",
    "* Effect of overlaying feature maps : This is my later To-Do. It just occurred to me that overlaying some features maps together mabe be hepful.\n",
    "\n",
    "* It's not easy for me to describe how CNN classifing traffic signs using on layer 2 features at this moemnt.\n",
    "I need to give further thought about this with time and more exprerience about CNN"
   ]
  },
  {
   "cell_type": "code",
   "execution_count": null,
   "metadata": {
    "collapsed": true
   },
   "outputs": [],
   "source": []
  }
 ],
 "metadata": {
  "kernelspec": {
   "display_name": "Python 3",
   "language": "python",
   "name": "python3"
  },
  "language_info": {
   "codemirror_mode": {
    "name": "ipython",
    "version": 3
   },
   "file_extension": ".py",
   "mimetype": "text/x-python",
   "name": "python",
   "nbconvert_exporter": "python",
   "pygments_lexer": "ipython3",
   "version": "3.5.2"
  }
 },
 "nbformat": 4,
 "nbformat_minor": 2
}
