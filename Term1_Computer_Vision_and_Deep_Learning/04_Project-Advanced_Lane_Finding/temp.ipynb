{
 "cells": [
  {
   "cell_type": "code",
   "execution_count": 1,
   "metadata": {
    "collapsed": true
   },
   "outputs": [],
   "source": [
    "def succ(x):\n",
    "    return x + 1"
   ]
  },
  {
   "cell_type": "code",
   "execution_count": 2,
   "metadata": {
    "collapsed": false
   },
   "outputs": [
    {
     "data": {
      "text/plain": [
       "11"
      ]
     },
     "execution_count": 2,
     "metadata": {},
     "output_type": "execute_result"
    }
   ],
   "source": [
    "successor = succ\n",
    "successor(10)"
   ]
  },
  {
   "cell_type": "code",
   "execution_count": 3,
   "metadata": {
    "collapsed": false
   },
   "outputs": [
    {
     "data": {
      "text/plain": [
       "13"
      ]
     },
     "execution_count": 3,
     "metadata": {},
     "output_type": "execute_result"
    }
   ],
   "source": [
    "succ(12)"
   ]
  },
  {
   "cell_type": "code",
   "execution_count": 4,
   "metadata": {
    "collapsed": true
   },
   "outputs": [],
   "source": [
    "del succ"
   ]
  },
  {
   "cell_type": "code",
   "execution_count": 6,
   "metadata": {
    "collapsed": false
   },
   "outputs": [
    {
     "ename": "NameError",
     "evalue": "name 'succ' is not defined",
     "output_type": "error",
     "traceback": [
      "\u001b[0;31m---------------------------------------------------------------------------\u001b[0m",
      "\u001b[0;31mNameError\u001b[0m                                 Traceback (most recent call last)",
      "\u001b[0;32m<ipython-input-6-833dc0b37f9f>\u001b[0m in \u001b[0;36m<module>\u001b[0;34m()\u001b[0m\n\u001b[0;32m----> 1\u001b[0;31m \u001b[0msucc\u001b[0m\u001b[1;33m(\u001b[0m\u001b[1;36m12\u001b[0m\u001b[1;33m)\u001b[0m\u001b[1;33m\u001b[0m\u001b[0m\n\u001b[0m",
      "\u001b[0;31mNameError\u001b[0m: name 'succ' is not defined"
     ]
    }
   ],
   "source": [
    "succ(12)"
   ]
  },
  {
   "cell_type": "code",
   "execution_count": 7,
   "metadata": {
    "collapsed": false
   },
   "outputs": [
    {
     "data": {
      "text/plain": [
       "11"
      ]
     },
     "execution_count": 7,
     "metadata": {},
     "output_type": "execute_result"
    }
   ],
   "source": [
    "successor(10)"
   ]
  },
  {
   "cell_type": "code",
   "execution_count": 9,
   "metadata": {
    "collapsed": false
   },
   "outputs": [
    {
     "name": "stdout",
     "output_type": "stream",
     "text": [
      "Before def g\n",
      "after def g\n",
      "This is the function 'f'\n",
      "I am calling 'g' now:\n",
      "Hi, it's me 'g'\n",
      "Thanks for calling me\n"
     ]
    }
   ],
   "source": [
    "def f():\n",
    "    print('Before def g')\n",
    "    def g():\n",
    "        print(\"Hi, it's me 'g'\")\n",
    "        print(\"Thanks for calling me\")\n",
    "    print('after def g')    \n",
    "    print(\"This is the function 'f'\")\n",
    "    print(\"I am calling 'g' now:\")\n",
    "    g()\n",
    "\n",
    "    \n",
    "f()"
   ]
  },
  {
   "cell_type": "code",
   "execution_count": 10,
   "metadata": {
    "collapsed": false
   },
   "outputs": [
    {
     "name": "stdout",
     "output_type": "stream",
     "text": [
      "It's 68.0 degrees!\n"
     ]
    }
   ],
   "source": [
    "def temperature(t):\n",
    "    def celsius2fahrenheit(x):\n",
    "        return 9 * x / 5 + 32\n",
    "\n",
    "    result = \"It's \" + str(celsius2fahrenheit(t)) + \" degrees!\" \n",
    "    return result\n",
    "\n",
    "print(temperature(20))"
   ]
  },
  {
   "cell_type": "code",
   "execution_count": 11,
   "metadata": {
    "collapsed": false
   },
   "outputs": [
    {
     "name": "stdout",
     "output_type": "stream",
     "text": [
      "Hi, it's me 'f'\n",
      "I will call 'func' now\n",
      "Hi, it's me 'g'\n",
      "Thanks for calling me\n"
     ]
    }
   ],
   "source": [
    "def g():\n",
    "    print(\"Hi, it's me 'g'\")\n",
    "    print(\"Thanks for calling me\")\n",
    "    \n",
    "def f(func):\n",
    "    print(\"Hi, it's me 'f'\")\n",
    "    print(\"I will call 'func' now\")\n",
    "    func()\n",
    "          \n",
    "f(g)"
   ]
  },
  {
   "cell_type": "code",
   "execution_count": 13,
   "metadata": {
    "collapsed": false
   },
   "outputs": [
    {
     "name": "stdout",
     "output_type": "stream",
     "text": [
      "Hi, it's me 'f'\n",
      "I will call 'func' now\n",
      "Hi, it's me 'g'\n",
      "Thanks for calling me\n",
      "func's real name is g\n"
     ]
    }
   ],
   "source": [
    "def g():\n",
    "    print(\"Hi, it's me 'g'\")\n",
    "    print(\"Thanks for calling me\")\n",
    "    \n",
    "def f(func):\n",
    "    print(\"Hi, it's me 'f'\")\n",
    "    print(\"I will call 'func' now\")\n",
    "    func()\n",
    "    print(\"func's real name is \"+func.__name__)\n",
    "          \n",
    "f(g)"
   ]
  },
  {
   "cell_type": "code",
   "execution_count": 14,
   "metadata": {
    "collapsed": false
   },
   "outputs": [
    {
     "name": "stdout",
     "output_type": "stream",
     "text": [
      "The function sin was passed to foo\n",
      "2.3492405557375347\n",
      "The function cos was passed to foo\n",
      "-0.6769881462259364\n"
     ]
    }
   ],
   "source": [
    "import math\n",
    "\n",
    "def foo(func):\n",
    "    print(\"The function \" + func.__name__ + \" was passed to foo\")\n",
    "    res = 0\n",
    "    for x in [1, 2, 2.5]:\n",
    "        res += func(x)\n",
    "    return res\n",
    "\n",
    "print(foo(math.sin))\n",
    "print(foo(math.cos))"
   ]
  },
  {
   "cell_type": "code",
   "execution_count": 18,
   "metadata": {
    "collapsed": false
   },
   "outputs": [],
   "source": [
    "def f(x):\n",
    "    def g(y):\n",
    "        return x+y+3\n",
    "    return g\n",
    "\n",
    "f1_g,f2_g = f(1),f(2)"
   ]
  },
  {
   "cell_type": "code",
   "execution_count": 19,
   "metadata": {
    "collapsed": false
   },
   "outputs": [
    {
     "data": {
      "text/plain": [
       "5"
      ]
     },
     "execution_count": 19,
     "metadata": {},
     "output_type": "execute_result"
    }
   ],
   "source": [
    "f1_g(1)"
   ]
  },
  {
   "cell_type": "code",
   "execution_count": 20,
   "metadata": {
    "collapsed": false
   },
   "outputs": [
    {
     "data": {
      "text/plain": [
       "6"
      ]
     },
     "execution_count": 20,
     "metadata": {},
     "output_type": "execute_result"
    }
   ],
   "source": [
    "f2_g(1)"
   ]
  },
  {
   "cell_type": "code",
   "execution_count": 27,
   "metadata": {
    "collapsed": false
   },
   "outputs": [],
   "source": [
    "def polynomial_creator(a,b,c):\n",
    "    def polynomial(x):\n",
    "        return a*x**2+b*x+c\n",
    "    return polynomial\n",
    "\n",
    "p1 = polynomial_creator(2, 3, -1)\n",
    "p2 = polynomial_creator(-1, 2, 1)"
   ]
  },
  {
   "cell_type": "code",
   "execution_count": 28,
   "metadata": {
    "collapsed": false
   },
   "outputs": [
    {
     "data": {
      "text/plain": [
       "4"
      ]
     },
     "execution_count": 28,
     "metadata": {},
     "output_type": "execute_result"
    }
   ],
   "source": [
    "p1(1)"
   ]
  },
  {
   "cell_type": "code",
   "execution_count": 29,
   "metadata": {
    "collapsed": false
   },
   "outputs": [
    {
     "data": {
      "text/plain": [
       "2"
      ]
     },
     "execution_count": 29,
     "metadata": {},
     "output_type": "execute_result"
    }
   ],
   "source": [
    "p2(1)"
   ]
  },
  {
   "cell_type": "code",
   "execution_count": 30,
   "metadata": {
    "collapsed": false
   },
   "outputs": [
    {
     "name": "stdout",
     "output_type": "stream",
     "text": [
      "-2 4 0 -11 -7\n",
      "-1 4 2 -9 -2\n",
      "0 4 4 1 1\n",
      "1 4 6 13 2\n"
     ]
    }
   ],
   "source": [
    "def polynomial_creator(*coefficients):\n",
    "    def polynomial(x):\n",
    "        res = 0\n",
    "        degree = len(coefficients) - 1\n",
    "        for index, coeff in enumerate(coefficients):\n",
    "            res += coeff * x**(degree - index)\n",
    "        return res\n",
    "    return polynomial\n",
    "  \n",
    "p1 = polynomial_creator(4)\n",
    "p2 = polynomial_creator(2, 4)\n",
    "p3 = polynomial_creator(2, 3, -1, 8, 1)\n",
    "p4 = polynomial_creator(-1, 2, 1)\n",
    "\n",
    "\n",
    "for x in range(-2, 2, 1):\n",
    "    print(x, p1(x), p2(x), p3(x), p4(x))"
   ]
  },
  {
   "cell_type": "code",
   "execution_count": 31,
   "metadata": {
    "collapsed": false
   },
   "outputs": [
    {
     "name": "stdout",
     "output_type": "stream",
     "text": [
      "We call foo before decoration:\n",
      "Hi, foo has been called with Hi\n",
      "We now decorate foo with f:\n",
      "We call foo after decoration:\n",
      "Before calling foo\n",
      "Hi, foo has been called with 42\n",
      "After calling foo\n"
     ]
    }
   ],
   "source": [
    "def our_decorator(func):\n",
    "    def function_wrapper(x):\n",
    "        print(\"Before calling \" + func.__name__)\n",
    "        func(x)\n",
    "        print(\"After calling \" + func.__name__)\n",
    "    return function_wrapper\n",
    "\n",
    "def foo(x):\n",
    "    print(\"Hi, foo has been called with \" + str(x))\n",
    "\n",
    "print(\"We call foo before decoration:\")\n",
    "foo(\"Hi\")\n",
    "    \n",
    "print(\"We now decorate foo with f:\")\n",
    "foo = our_decorator(foo)\n",
    "\n",
    "print(\"We call foo after decoration:\")\n",
    "foo(42)"
   ]
  },
  {
   "cell_type": "code",
   "execution_count": 32,
   "metadata": {
    "collapsed": false
   },
   "outputs": [
    {
     "name": "stdout",
     "output_type": "stream",
     "text": [
      "Before calling succ\n",
      "11\n",
      "After calling succ\n"
     ]
    }
   ],
   "source": [
    "def our_decorator(func):\n",
    "    def function_wrapper(x):\n",
    "        print(\"Before calling \" + func.__name__)\n",
    "        res = func(x)\n",
    "        print(res)\n",
    "        print(\"After calling \" + func.__name__)\n",
    "    return function_wrapper\n",
    "\n",
    "@our_decorator\n",
    "def succ(n):\n",
    "    return n + 1\n",
    "\n",
    "succ(10)"
   ]
  },
  {
   "cell_type": "code",
   "execution_count": 33,
   "metadata": {
    "collapsed": false
   },
   "outputs": [
    {
     "name": "stdout",
     "output_type": "stream",
     "text": [
      "Before calling sin\n",
      "9.265358966049026e-05\n",
      "After calling sin\n",
      "Before calling cos\n",
      "-0.9999999957076562\n",
      "After calling cos\n"
     ]
    }
   ],
   "source": [
    "from math import sin, cos\n",
    "\n",
    "def our_decorator(func):\n",
    "    def function_wrapper(x):\n",
    "        print(\"Before calling \" + func.__name__)\n",
    "        res = func(x)\n",
    "        print(res)\n",
    "        print(\"After calling \" + func.__name__)\n",
    "    return function_wrapper\n",
    "\n",
    "sin = our_decorator(sin)\n",
    "cos = our_decorator(cos)\n",
    "\n",
    "for f in [sin, cos]:\n",
    "    f(3.1415)"
   ]
  },
  {
   "cell_type": "code",
   "execution_count": 35,
   "metadata": {
    "collapsed": false
   },
   "outputs": [
    {
     "name": "stdout",
     "output_type": "stream",
     "text": [
      "0\n",
      "10\n"
     ]
    }
   ],
   "source": [
    "def call_counter(func):\n",
    "    def helper(x):\n",
    "        helper.calls += 1\n",
    "        return func(x)\n",
    "    helper.calls = 0\n",
    "    return helper\n",
    "\n",
    "@call_counter\n",
    "def succ(x):\n",
    "    return x + 1\n",
    "\n",
    "print(succ.calls)\n",
    "for i in range(10):\n",
    "    succ(i)\n",
    "#     print(succ(i))\n",
    "    \n",
    "print(succ.calls)"
   ]
  },
  {
   "cell_type": "code",
   "execution_count": 38,
   "metadata": {
    "collapsed": false
   },
   "outputs": [
    {
     "name": "stdout",
     "output_type": "stream",
     "text": [
      "Good evening, foo returns:\n",
      "42\n"
     ]
    }
   ],
   "source": [
    "def evening_greeting(func):\n",
    "    def function_wrapper(x):\n",
    "        print(\"Good evening, \" + func.__name__ + \" returns:\")\n",
    "        func(x)\n",
    "    return function_wrapper\n",
    "\n",
    "def morning_greeting(func):\n",
    "    def function_wrapper(x):\n",
    "        print(\"Good morning, \" + func.__name__ + \" returns:\")\n",
    "        func(x)\n",
    "    return function_wrapper\n",
    "\n",
    "@evening_greeting\n",
    "def foo(x):\n",
    "    print(42)\n",
    "    \n",
    "foo(\"Hi\")"
   ]
  },
  {
   "cell_type": "code",
   "execution_count": 39,
   "metadata": {
    "collapsed": true
   },
   "outputs": [],
   "source": [
    "def greeting(func):\n",
    "    def function_wrapper(x):\n",
    "        \"\"\" function_wrapper of greeting \"\"\"\n",
    "        print(\"Hi, \" + func.__name__ + \" returns:\")\n",
    "        return func(x)\n",
    "    return function_wrapper"
   ]
  },
  {
   "cell_type": "code",
   "execution_count": 41,
   "metadata": {
    "collapsed": false
   },
   "outputs": [
    {
     "name": "stdout",
     "output_type": "stream",
     "text": [
      "Hi, f returns:\n",
      "function name: function_wrapper\n",
      "docstring:  function_wrapper of greeting \n",
      "module name: __main__\n"
     ]
    }
   ],
   "source": [
    "@greeting\n",
    "def f(x):\n",
    "    \"\"\" just some silly function \"\"\"\n",
    "    return x + 4\n",
    "\n",
    "f(10)\n",
    "print(\"function name: \" + f.__name__)\n",
    "print(\"docstring: \" + f.__doc__)\n",
    "print(\"module name: \" + f.__module__)"
   ]
  },
  {
   "cell_type": "code",
   "execution_count": 42,
   "metadata": {
    "collapsed": true
   },
   "outputs": [],
   "source": [
    "class P:\n",
    "\n",
    "    def __init__(self,x):\n",
    "        self.x = x\n",
    "\n",
    "    @property\n",
    "    def x(self):\n",
    "        return self.__x\n",
    "\n",
    "    @x.setter\n",
    "    def x(self, x):\n",
    "        if x < 0:\n",
    "            self.__x = 0\n",
    "        elif x > 1000:\n",
    "            self.__x = 1000\n",
    "        else:\n",
    "            self.__x = x"
   ]
  },
  {
   "cell_type": "code",
   "execution_count": 43,
   "metadata": {
    "collapsed": true
   },
   "outputs": [],
   "source": [
    "p1 = P(1001)"
   ]
  },
  {
   "cell_type": "code",
   "execution_count": 44,
   "metadata": {
    "collapsed": false
   },
   "outputs": [
    {
     "data": {
      "text/plain": [
       "1000"
      ]
     },
     "execution_count": 44,
     "metadata": {},
     "output_type": "execute_result"
    }
   ],
   "source": [
    "p1.x"
   ]
  },
  {
   "cell_type": "code",
   "execution_count": 45,
   "metadata": {
    "collapsed": true
   },
   "outputs": [],
   "source": [
    "p1.x = -12"
   ]
  },
  {
   "cell_type": "code",
   "execution_count": 46,
   "metadata": {
    "collapsed": false
   },
   "outputs": [
    {
     "data": {
      "text/plain": [
       "0"
      ]
     },
     "execution_count": 46,
     "metadata": {},
     "output_type": "execute_result"
    }
   ],
   "source": [
    "p1.x"
   ]
  },
  {
   "cell_type": "code",
   "execution_count": 47,
   "metadata": {
    "collapsed": true
   },
   "outputs": [],
   "source": [
    "class P:\n",
    "\n",
    "    def __init__(self,x):\n",
    "        self.set_x(x)\n",
    "\n",
    "    def get_x(self):\n",
    "        return self.__x\n",
    "\n",
    "    def set_x(self, x):\n",
    "        if x < 0:\n",
    "            self.__x = 0\n",
    "        elif x > 1000:\n",
    "            self.__x = 1000\n",
    "        else:\n",
    "            self.__x = x\n",
    "\n",
    "    x = property(get_x, set_x)"
   ]
  },
  {
   "cell_type": "code",
   "execution_count": 49,
   "metadata": {
    "collapsed": false
   },
   "outputs": [
    {
     "name": "stdout",
     "output_type": "stream",
     "text": [
      "<bound method Robot.condition of <__main__.Robot object at 0x0000000004C3F208>>\n",
      "<bound method Robot.condition of <__main__.Robot object at 0x0000000004C3DCC0>>\n"
     ]
    }
   ],
   "source": [
    "class Robot:\n",
    "\n",
    "    def __init__(self, name, build_year, lk = 0.5, lp = 0.5 ):\n",
    "        self.name = name\n",
    "        self.build_year = build_year\n",
    "        self.__potential_physical = lk\n",
    "        self.__potential_psychic = lp\n",
    "\n",
    "#     @property\n",
    "    def condition(self):\n",
    "        s = self.__potential_physical + self.__potential_psychic\n",
    "        if s <= -1:\n",
    "           return \"I feel miserable!\"\n",
    "        elif s <= 0:\n",
    "           return \"I feel bad!\"\n",
    "        elif s <= 0.5:\n",
    "           return \"Could be worse!\"\n",
    "        elif s <= 1:\n",
    "           return \"Seems to be okay!\"\n",
    "        else:\n",
    "           return \"Great!\" \n",
    "  \n",
    "if __name__ == \"__main__\":\n",
    "    x = Robot(\"Marvin\", 1979, 0.2, 0.4 )\n",
    "    y = Robot(\"Caliban\", 1993, -0.4, 0.3)\n",
    "    print(x.condition)\n",
    "    print(y.condition)"
   ]
  },
  {
   "cell_type": "code",
   "execution_count": 50,
   "metadata": {
    "collapsed": false
   },
   "outputs": [
    {
     "data": {
      "text/plain": [
       "3.3000000000000003"
      ]
     },
     "execution_count": 50,
     "metadata": {},
     "output_type": "execute_result"
    }
   ],
   "source": [
    "1.1+2.2"
   ]
  },
  {
   "cell_type": "code",
   "execution_count": 57,
   "metadata": {
    "collapsed": true
   },
   "outputs": [],
   "source": [
    "class Celsius:\n",
    "    def __init__(self, temperature = 0):\n",
    "        self.set_temperature(temperature)\n",
    "\n",
    "    def to_fahrenheit(self):\n",
    "        return (self.get_temperature() * 1.8) + 32\n",
    "\n",
    "    # new update\n",
    "    def get_temperature(self):\n",
    "        return self.__temperature\n",
    "\n",
    "    def set_temperature(self, value):\n",
    "        if value < -273:\n",
    "            raise ValueError(\"Temperature below -273 is not possible\")\n",
    "        self.__temperature = value"
   ]
  },
  {
   "cell_type": "code",
   "execution_count": 58,
   "metadata": {
    "collapsed": false
   },
   "outputs": [],
   "source": [
    " c = Celsius(37)"
   ]
  },
  {
   "cell_type": "code",
   "execution_count": 59,
   "metadata": {
    "collapsed": false
   },
   "outputs": [
    {
     "data": {
      "text/plain": [
       "37"
      ]
     },
     "execution_count": 59,
     "metadata": {},
     "output_type": "execute_result"
    }
   ],
   "source": [
    "c.get_temperature()"
   ]
  },
  {
   "cell_type": "code",
   "execution_count": 60,
   "metadata": {
    "collapsed": true
   },
   "outputs": [],
   "source": [
    "c._temperature = -300"
   ]
  },
  {
   "cell_type": "code",
   "execution_count": 61,
   "metadata": {
    "collapsed": false
   },
   "outputs": [
    {
     "data": {
      "text/plain": [
       "37"
      ]
     },
     "execution_count": 61,
     "metadata": {},
     "output_type": "execute_result"
    }
   ],
   "source": [
    "c.get_temperature()"
   ]
  },
  {
   "cell_type": "code",
   "execution_count": null,
   "metadata": {
    "collapsed": true
   },
   "outputs": [],
   "source": []
  }
 ],
 "metadata": {
  "kernelspec": {
   "display_name": "Python 3",
   "language": "python",
   "name": "python3"
  },
  "language_info": {
   "codemirror_mode": {
    "name": "ipython",
    "version": 3
   },
   "file_extension": ".py",
   "mimetype": "text/x-python",
   "name": "python",
   "nbconvert_exporter": "python",
   "pygments_lexer": "ipython3",
   "version": "3.5.2"
  }
 },
 "nbformat": 4,
 "nbformat_minor": 2
}
