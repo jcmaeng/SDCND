{
 "cells": [
  {
   "cell_type": "markdown",
   "metadata": {},
   "source": [
    "## Gaussian Potential Field\n",
    "Python 2.7 , source activate py27<br>\n",
    "http://www.rag.com.ve/potential-field-navigation-obstacle-definition-in-python-using-a-gaussian-field/"
   ]
  },
  {
   "cell_type": "code",
   "execution_count": 1,
   "metadata": {},
   "outputs": [],
   "source": [
    "from pylab import *\n",
    "import matplotlib.pyplot as plt\n",
    "from mayavi import mlab\n",
    " \n",
    "x_min = 0\n",
    "y_min = 0\n",
    "x_max = 100\n",
    "y_max = 100\n",
    "X, Y = mgrid[ x_min:x_max+1:1,  y_min: y_max+1:1]"
   ]
  },
  {
   "cell_type": "code",
   "execution_count": 2,
   "metadata": {
    "collapsed": true
   },
   "outputs": [],
   "source": [
    "## mesh grid, mgrid test\n",
    "x_min = 0\n",
    "y_min = 0\n",
    "x1_max = 10\n",
    "y1_max = 10\n",
    "X1, Y1 = mgrid[ x_min:x1_max+1:1,  y_min: y1_max+1:1]"
   ]
  },
  {
   "cell_type": "code",
   "execution_count": 3,
   "metadata": {},
   "outputs": [
    {
     "data": {
      "text/plain": [
       "array([[ 0,  0,  0,  0,  0,  0,  0,  0,  0,  0,  0],\n",
       "       [ 1,  1,  1,  1,  1,  1,  1,  1,  1,  1,  1],\n",
       "       [ 2,  2,  2,  2,  2,  2,  2,  2,  2,  2,  2],\n",
       "       [ 3,  3,  3,  3,  3,  3,  3,  3,  3,  3,  3],\n",
       "       [ 4,  4,  4,  4,  4,  4,  4,  4,  4,  4,  4],\n",
       "       [ 5,  5,  5,  5,  5,  5,  5,  5,  5,  5,  5],\n",
       "       [ 6,  6,  6,  6,  6,  6,  6,  6,  6,  6,  6],\n",
       "       [ 7,  7,  7,  7,  7,  7,  7,  7,  7,  7,  7],\n",
       "       [ 8,  8,  8,  8,  8,  8,  8,  8,  8,  8,  8],\n",
       "       [ 9,  9,  9,  9,  9,  9,  9,  9,  9,  9,  9],\n",
       "       [10, 10, 10, 10, 10, 10, 10, 10, 10, 10, 10]])"
      ]
     },
     "execution_count": 3,
     "metadata": {},
     "output_type": "execute_result"
    }
   ],
   "source": [
    "X1"
   ]
  },
  {
   "cell_type": "code",
   "execution_count": 4,
   "metadata": {
    "scrolled": true
   },
   "outputs": [
    {
     "data": {
      "text/plain": [
       "array([[ 0,  1,  2,  3,  4,  5,  6,  7,  8,  9, 10],\n",
       "       [ 0,  1,  2,  3,  4,  5,  6,  7,  8,  9, 10],\n",
       "       [ 0,  1,  2,  3,  4,  5,  6,  7,  8,  9, 10],\n",
       "       [ 0,  1,  2,  3,  4,  5,  6,  7,  8,  9, 10],\n",
       "       [ 0,  1,  2,  3,  4,  5,  6,  7,  8,  9, 10],\n",
       "       [ 0,  1,  2,  3,  4,  5,  6,  7,  8,  9, 10],\n",
       "       [ 0,  1,  2,  3,  4,  5,  6,  7,  8,  9, 10],\n",
       "       [ 0,  1,  2,  3,  4,  5,  6,  7,  8,  9, 10],\n",
       "       [ 0,  1,  2,  3,  4,  5,  6,  7,  8,  9, 10],\n",
       "       [ 0,  1,  2,  3,  4,  5,  6,  7,  8,  9, 10],\n",
       "       [ 0,  1,  2,  3,  4,  5,  6,  7,  8,  9, 10]])"
      ]
     },
     "execution_count": 4,
     "metadata": {},
     "output_type": "execute_result"
    }
   ],
   "source": [
    "Y1"
   ]
  },
  {
   "cell_type": "code",
   "execution_count": null,
   "metadata": {
    "collapsed": true
   },
   "outputs": [],
   "source": []
  },
  {
   "cell_type": "code",
   "execution_count": 5,
   "metadata": {},
   "outputs": [],
   "source": [
    "def gaussian_obstacle(X,Y, x_obs, y_obs, size_robot, size_obstacle):\n",
    "    #We extend the size of the obstacle with the size of the robot (border expansion)\n",
    "    ext_size = size_robot + size_obstacle\n",
    "    sigma_x = (ext_size/2)/2.3548\n",
    "    sigma_y = (ext_size/2)/2.3548\n",
    "    theta = 0\n",
    "    A = 100 #Weight of the Gaussian\n",
    "    Z = zeros_like(X)\n",
    "    a = cos(theta)**2/2/sigma_x**2 + sin(theta)**2/2/sigma_y**2\n",
    "    b = -sin(2*theta)/4/sigma_x**2 + sin(2*theta)/4/sigma_y**2\n",
    "    c = sin(theta)**2/2/sigma_x**2 + cos(theta)**2/2/sigma_y**2\n",
    "    Z[:] = Z[:]+A*exp( - (a*(X-x_obs)**2 + 2*b*(X-x_obs)*(Y-y_obs) + c*(Y-y_obs)**2))\n",
    "    return Z\n",
    "\n",
    "Z = gaussian_obstacle(X, Y, 50, 50, 10, 10)"
   ]
  },
  {
   "cell_type": "code",
   "execution_count": 6,
   "metadata": {},
   "outputs": [
    {
     "data": {
      "text/plain": [
       "(101L, 101L)"
      ]
     },
     "execution_count": 6,
     "metadata": {},
     "output_type": "execute_result"
    }
   ],
   "source": [
    "Z.shape"
   ]
  },
  {
   "cell_type": "code",
   "execution_count": 7,
   "metadata": {},
   "outputs": [
    {
     "data": {
      "text/plain": [
       "array([[ 25,  32,  38,  44,  48,  50,  48,  44,  38,  32],\n",
       "       [ 32,  41,  50,  57,  62,  64,  62,  57,  50,  41],\n",
       "       [ 38,  50,  60,  69,  75,  77,  75,  69,  60,  50],\n",
       "       [ 44,  57,  69,  80,  87,  89,  87,  80,  69,  57],\n",
       "       [ 48,  62,  75,  87,  94,  97,  94,  87,  75,  62],\n",
       "       [ 50,  64,  77,  89,  97, 100,  97,  89,  77,  64],\n",
       "       [ 48,  62,  75,  87,  94,  97,  94,  87,  75,  62],\n",
       "       [ 44,  57,  69,  80,  87,  89,  87,  80,  69,  57],\n",
       "       [ 38,  50,  60,  69,  75,  77,  75,  69,  60,  50],\n",
       "       [ 32,  41,  50,  57,  62,  64,  62,  57,  50,  41]])"
      ]
     },
     "execution_count": 7,
     "metadata": {},
     "output_type": "execute_result"
    }
   ],
   "source": [
    "# show values around center\n",
    "Z[45:55,45:55]"
   ]
  },
  {
   "cell_type": "code",
   "execution_count": null,
   "metadata": {
    "collapsed": true
   },
   "outputs": [],
   "source": []
  },
  {
   "cell_type": "code",
   "execution_count": 8,
   "metadata": {
    "collapsed": true
   },
   "outputs": [],
   "source": [
    "def calculate_vector_field(Z):\n",
    "    U, V = gradient(Z,1,1)\n",
    "    U = -U\n",
    "    V = -V\n",
    "    return U, V \n",
    "\n",
    "U, V = calculate_vector_field(Z)"
   ]
  },
  {
   "cell_type": "code",
   "execution_count": 9,
   "metadata": {},
   "outputs": [],
   "source": [
    "def get_velocity_command(U, V, x_robot, y_robot):\n",
    "    return U[x_robot,y_robot], V[x_robot,y_robot]\n",
    "     \n",
    "Vx_robot, Vy_robot = get_velocity_command(U, V, 50, 49)"
   ]
  },
  {
   "cell_type": "code",
   "execution_count": 10,
   "metadata": {},
   "outputs": [
    {
     "data": {
      "text/plain": [
       "(-0.0, -5.5)"
      ]
     },
     "execution_count": 10,
     "metadata": {},
     "output_type": "execute_result"
    }
   ],
   "source": [
    "(Vx_robot,Vy_robot)"
   ]
  },
  {
   "cell_type": "code",
   "execution_count": 11,
   "metadata": {},
   "outputs": [
    {
     "data": {
      "text/plain": [
       "<mayavi.modules.vectors.Vectors at 0x10582f68>"
      ]
     },
     "execution_count": 11,
     "metadata": {},
     "output_type": "execute_result"
    }
   ],
   "source": [
    "# Plot\n",
    "mlab.figure(size=(800, 600))\n",
    "mlab.quiver3d(X, Y, zeros_like(X), U, V,zeros_like(U))\n",
    "# mlab.show()"
   ]
  },
  {
   "cell_type": "code",
   "execution_count": 12,
   "metadata": {},
   "outputs": [],
   "source": [
    "mlab.mesh(X, Y, Z)\n",
    "mlab.show()"
   ]
  },
  {
   "cell_type": "code",
   "execution_count": null,
   "metadata": {
    "collapsed": true
   },
   "outputs": [],
   "source": []
  }
 ],
 "metadata": {
  "kernelspec": {
   "display_name": "Python 2",
   "language": "python",
   "name": "python2"
  },
  "language_info": {
   "codemirror_mode": {
    "name": "ipython",
    "version": 2
   },
   "file_extension": ".py",
   "mimetype": "text/x-python",
   "name": "python",
   "nbconvert_exporter": "python",
   "pygments_lexer": "ipython2",
   "version": "2.7.13"
  }
 },
 "nbformat": 4,
 "nbformat_minor": 2
}
