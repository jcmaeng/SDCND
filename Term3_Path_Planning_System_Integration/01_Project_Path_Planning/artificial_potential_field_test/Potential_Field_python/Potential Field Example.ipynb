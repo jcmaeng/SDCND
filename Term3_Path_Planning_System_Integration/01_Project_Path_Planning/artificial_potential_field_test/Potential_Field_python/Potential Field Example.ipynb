{
 "cells": [
  {
   "cell_type": "markdown",
   "metadata": {},
   "source": [
    "# Potential Field Example<br>\n",
    "https://github.com/z-rui/pf/blob/master/pf.py\n",
    "\n",
    "\n",
    "\n",
    "Calculating the potential field and path planning.\n",
    "\n",
    "## Dependencies\n",
    "\n",
    "* Python (tested on 3.5)\n",
    "* PIL\n",
    "* numpy\n",
    "\n",
    "## Files\n",
    "\n",
    "* `pf.py`: General Operations.\n",
    "  * Covert a potential field to an image.\n",
    "  * Path planning.\n",
    "  * Draw the planned path on the image.\n",
    "* `epf.py`: A potential field implementation that uses Euclidean distance as potential.\n",
    "  * One destination.\n",
    "  * Multiple obstacles.\n",
    "  * Compute the potential of any point at request.\n",
    "\n",
    "See `example.py` for usage."
   ]
  },
  {
   "cell_type": "markdown",
   "metadata": {},
   "source": [
    "## pf.py"
   ]
  },
  {
   "cell_type": "code",
   "execution_count": 1,
   "metadata": {
    "collapsed": true
   },
   "outputs": [],
   "source": [
    "from PIL import Image\n",
    "import numpy"
   ]
  },
  {
   "cell_type": "code",
   "execution_count": 2,
   "metadata": {
    "collapsed": false
   },
   "outputs": [],
   "source": [
    "def field_to_image(f):\n",
    "    h, w = f.shape\n",
    "    cached = numpy.array(f, copy=False)\n",
    "    img = Image.new('RGB', (w, h))\n",
    "    maxp = minp = 0.0\n",
    "    for i in range(h):\n",
    "        for j in range(w):\n",
    "            val = cached[i, j]\n",
    "            if not numpy.isinf(val):\n",
    "                if val > maxp:\n",
    "                    maxp = val\n",
    "                elif val < minp:\n",
    "                    minp = val\n",
    "    px = img.load()\n",
    "    for i in range(h):\n",
    "        for j in range(w):\n",
    "            val = cached[i, j]\n",
    "            if numpy.isinf(val):\n",
    "                px[j, i] = (255, 255, 255)\n",
    "            elif numpy.abs(val) < 1e-9:\n",
    "                px[j, i] = (0, 0, 0)\n",
    "            elif val > 0:\n",
    "                px[j, i] = (int(val / maxp * 255), 0, 0)\n",
    "            else:\n",
    "                px[j, i] = (0, 0, int(val / minp * 255))\n",
    "    return img\n",
    "\n",
    "def find_nextstep(f, src):\n",
    "    h, w = f.shape\n",
    "    i, j = src\n",
    "    return min(\n",
    "        ((i1, j1)\n",
    "        for i1 in (i-1, i, i+1) if i1 in range(h)\n",
    "        for j1 in (j-1, j, j+1) if j1 in range(w)\n",
    "        ), key=lambda x: f[x]\n",
    "    )\n",
    "\n",
    "def find_path(f, src, dst=None, maxattempt=None):\n",
    "    path = [src]\n",
    "    h, w = f.shape\n",
    "    if maxattempt is None:\n",
    "        maxattempt = w*h\n",
    "    while maxattempt > 0 and src != dst:\n",
    "        maxattempt -= 1\n",
    "        src = find_nextstep(f, src)\n",
    "        path.append(src)\n",
    "    return path\n",
    "\n",
    "def draw_path(img, path):\n",
    "    px = img.load()\n",
    "    for i, j in path:\n",
    "        px[j, i] = (0, 255, 0)"
   ]
  },
  {
   "cell_type": "markdown",
   "metadata": {},
   "source": [
    "## epf.py"
   ]
  },
  {
   "cell_type": "code",
   "execution_count": 3,
   "metadata": {
    "collapsed": true
   },
   "outputs": [],
   "source": [
    "from __future__ import division # for Python 2.x compatibility\n",
    "import numpy"
   ]
  },
  {
   "cell_type": "code",
   "execution_count": 4,
   "metadata": {
    "collapsed": true
   },
   "outputs": [],
   "source": [
    "class EuclidField(object):\n",
    "    p = 5.0\n",
    "    @staticmethod\n",
    "    def dist(x, y):\n",
    "        return numpy.hypot(x[0]-y[0], x[1]-y[1])\n",
    "    def __init__(self, size, dst, obstacles):\n",
    "        w, h = size\n",
    "        self.shape = (h, w)\n",
    "        self.dst = dst\n",
    "        self.obstacles = obstacles\n",
    "    def __getitem__(self, q):\n",
    "        i, j = q\n",
    "        h, w = self.shape\n",
    "        if not (i in range(h) and j in range(w)):\n",
    "            raise IndexError\n",
    "        base = self.dist(q, self.dst)\n",
    "        k = 0.0\n",
    "        p = self.p\n",
    "        for obj in self.obstacles:\n",
    "            dist_to_obj = self.dist(q, obj)\n",
    "            if dist_to_obj <= p:\n",
    "                k += 5.0 / (1+(dist_to_obj/2.0)**6)\n",
    "        return (1.0 + k) * base**2\n",
    "    def __array__(self):\n",
    "        h, w = self.shape\n",
    "        return numpy.array([[self[i, j] for j in range(w)] for i in range(h)])"
   ]
  },
  {
   "cell_type": "markdown",
   "metadata": {},
   "source": [
    "## example.py"
   ]
  },
  {
   "cell_type": "code",
   "execution_count": 5,
   "metadata": {
    "collapsed": true
   },
   "outputs": [],
   "source": [
    "import pf\n",
    "import epf"
   ]
  },
  {
   "cell_type": "code",
   "execution_count": 6,
   "metadata": {
    "collapsed": true
   },
   "outputs": [],
   "source": [
    "f = epf.EuclidField(\n",
    "    (50, 50),   # width and height\n",
    "    (7, 14),    # goal\n",
    "    [           # obstacles\n",
    "        (9, 5),\n",
    "        (10, 4),\n",
    "        (10, 5),\n",
    "        (10, 6),\n",
    "        (11, 5),\n",
    "\n",
    "        (9, 15),\n",
    "        (10, 14),\n",
    "        (10, 15),\n",
    "        (10, 16),\n",
    "        (11, 15),\n",
    "\n",
    "        (39, 10),\n",
    "        (40, 9),\n",
    "        (40, 10),\n",
    "        (40, 11),\n",
    "        (41, 10),\n",
    "    ]\n",
    ")\n",
    "src = (46, 5)"
   ]
  },
  {
   "cell_type": "code",
   "execution_count": 8,
   "metadata": {
    "collapsed": false
   },
   "outputs": [
    {
     "data": {
      "text/plain": [
       "[(9, 5),\n",
       " (10, 4),\n",
       " (10, 5),\n",
       " (10, 6),\n",
       " (11, 5),\n",
       " (9, 15),\n",
       " (10, 14),\n",
       " (10, 15),\n",
       " (10, 16),\n",
       " (11, 15),\n",
       " (39, 10),\n",
       " (40, 9),\n",
       " (40, 10),\n",
       " (40, 11),\n",
       " (41, 10)]"
      ]
     },
     "execution_count": 8,
     "metadata": {},
     "output_type": "execute_result"
    }
   ],
   "source": [
    "f.obstacles "
   ]
  },
  {
   "cell_type": "code",
   "execution_count": 7,
   "metadata": {
    "collapsed": false
   },
   "outputs": [
    {
     "data": {
      "text/plain": [
       "<matplotlib.image.AxesImage at 0x8b0db70>"
      ]
     },
     "execution_count": 7,
     "metadata": {},
     "output_type": "execute_result"
    },
    {
     "data": {
      "image/png": "[encoded data removed]",
      "text/plain": [
       "<matplotlib.figure.Figure at 0x533f7b8>"
      ]
     },
     "metadata": {},
     "output_type": "display_data"
    }
   ],
   "source": [
    "import matplotlib.pyplot as plt\n",
    "%matplotlib inline\n",
    "\n",
    "path = pf.find_path(f, src, f.dst, 100)\n",
    "img = pf.field_to_image(f)\n",
    "# pf.draw_path(img, path)\n",
    "plt.imshow(img)\n",
    "# im.save('out.png')"
   ]
  },
  {
   "cell_type": "code",
   "execution_count": null,
   "metadata": {
    "collapsed": true
   },
   "outputs": [],
   "source": []
  }
 ],
 "metadata": {
  "kernelspec": {
   "display_name": "Python 3",
   "language": "python",
   "name": "python3"
  },
  "language_info": {
   "codemirror_mode": {
    "name": "ipython",
    "version": 3
   },
   "file_extension": ".py",
   "mimetype": "text/x-python",
   "name": "python",
   "nbconvert_exporter": "python",
   "pygments_lexer": "ipython3",
   "version": "3.5.2"
  }
 },
 "nbformat": 4,
 "nbformat_minor": 2
}
