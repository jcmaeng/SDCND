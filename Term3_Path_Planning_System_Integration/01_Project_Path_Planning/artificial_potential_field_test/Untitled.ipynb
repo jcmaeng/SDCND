{
 "cells": [
  {
   "cell_type": "code",
   "execution_count": 2,
   "metadata": {
    "collapsed": false
   },
   "outputs": [
    {
     "name": "stdout",
     "output_type": "stream",
     "text": [
      "p_car = 12.435304804423259\n"
     ]
    }
   ],
   "source": [
    "from math import *\n",
    "\n",
    "x,y = 0,0\n",
    "\n",
    "# p_car =  (100/6.2)*exp(-(x/1.5)**2.)*exp(-((y-50.)/30.)**2)\n",
    "p_car =  200*exp(-((y-50.)/30.)**2)\n",
    "\n",
    "print('p_car = %s' % p_car)"
   ]
  },
  {
   "cell_type": "code",
   "execution_count": 3,
   "metadata": {
    "collapsed": false
   },
   "outputs": [
    {
     "name": "stdout",
     "output_type": "stream",
     "text": [
      "p_lane_line0 = 25.0\n"
     ]
    }
   ],
   "source": [
    "x,y = 4,0\n",
    "p_lane_line0 = (100/4)*exp(-((x-4)/0.8)**2)\n",
    "print('p_lane_line0 = %s' % p_lane_line0)"
   ]
  },
  {
   "cell_type": "code",
   "execution_count": 19,
   "metadata": {
    "collapsed": false
   },
   "outputs": [
    {
     "name": "stdout",
     "output_type": "stream",
     "text": [
      "p_center_lane = 16.666666666666664\n"
     ]
    }
   ],
   "source": [
    "W_P_CENTER_LANE = 100\n",
    "LANE_WIDTH = 4\n",
    "d = 1.5\n",
    "\n",
    "p_center_lane = W_P_CENTER_LANE*(1/d - 1/(LANE_WIDTH/2.0));\n",
    "print('p_center_lane = %s' % p_center_lane)"
   ]
  },
  {
   "cell_type": "code",
   "execution_count": 24,
   "metadata": {
    "collapsed": false
   },
   "outputs": [
    {
     "name": "stdout",
     "output_type": "stream",
     "text": [
      "p_rightmost_line = 7.14285714285714\n"
     ]
    }
   ],
   "source": [
    "W_P_RIGHTMOST_LANE=100\n",
    "RIGHTMOST = 12\n",
    "LANE_WIDTH = 4\n",
    "d = 10.25\n",
    "\n",
    "p_rightmost_line = W_P_RIGHTMOST_LANE*(1/(-(d-RIGHTMOST)) - 1/(LANE_WIDTH/2.0));\n",
    "print('p_rightmost_line = %s' % p_rightmost_line)"
   ]
  },
  {
   "cell_type": "code",
   "execution_count": null,
   "metadata": {
    "collapsed": true
   },
   "outputs": [],
   "source": []
  }
 ],
 "metadata": {
  "kernelspec": {
   "display_name": "Python 3",
   "language": "python",
   "name": "python3"
  },
  "language_info": {
   "codemirror_mode": {
    "name": "ipython",
    "version": 3
   },
   "file_extension": ".py",
   "mimetype": "text/x-python",
   "name": "python",
   "nbconvert_exporter": "python",
   "pygments_lexer": "ipython3",
   "version": "3.5.1"
  }
 },
 "nbformat": 4,
 "nbformat_minor": 0
}
