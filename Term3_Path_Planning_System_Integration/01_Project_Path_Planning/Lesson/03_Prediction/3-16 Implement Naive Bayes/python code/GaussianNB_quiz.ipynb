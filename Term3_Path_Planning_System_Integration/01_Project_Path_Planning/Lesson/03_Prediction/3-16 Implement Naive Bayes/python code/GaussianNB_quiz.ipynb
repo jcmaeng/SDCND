{
 "cells": [
  {
   "cell_type": "markdown",
   "metadata": {},
   "source": [
    "## Sklearn GNB(Gaussian Naive Bayes) example\n",
    "\n",
    "http://scikit-learn.org/stable/modules/naive_bayes.html#gaussian-naive-bayes"
   ]
  },
  {
   "cell_type": "code",
   "execution_count": 2,
   "metadata": {
    "collapsed": false
   },
   "outputs": [],
   "source": [
    "from sklearn import datasets\n",
    "from sklearn.naive_bayes import GaussianNB\n",
    "\n",
    "iris = datasets.load_iris()\n",
    "gnb = GaussianNB()"
   ]
  },
  {
   "cell_type": "code",
   "execution_count": 4,
   "metadata": {
    "collapsed": false
   },
   "outputs": [],
   "source": [
    "y_pred = gnb.fit(iris.data, iris.target).predict(iris.data)"
   ]
  },
  {
   "cell_type": "code",
   "execution_count": 5,
   "metadata": {
    "collapsed": false
   },
   "outputs": [
    {
     "name": "stdout",
     "output_type": "stream",
     "text": [
      "Number of mislabeled points out of a total 150 points : 6\n"
     ]
    }
   ],
   "source": [
    "print(\"Number of mislabeled points out of a total %d points : %d\" % (iris.data.shape[0],(iris.target != y_pred).sum()))"
   ]
  },
  {
   "cell_type": "code",
   "execution_count": 14,
   "metadata": {
    "collapsed": false
   },
   "outputs": [
    {
     "data": {
      "text/plain": [
       "array([0, 0, 0, 0, 0, 0, 0, 0, 0, 0, 0, 0, 0, 0, 0, 0, 0, 0, 0, 0, 0, 0, 0,\n",
       "       0, 0, 0, 0, 0, 0, 0, 0, 0, 0, 0, 0, 0, 0, 0, 0, 0, 0, 0, 0, 0, 0, 0,\n",
       "       0, 0, 0, 0, 1, 1, 2, 1, 1, 1, 1, 1, 1, 1, 1, 1, 1, 1, 1, 1, 1, 1, 1,\n",
       "       1, 2, 1, 1, 1, 1, 1, 1, 2, 1, 1, 1, 1, 1, 1, 1, 1, 1, 1, 1, 1, 1, 1,\n",
       "       1, 1, 1, 1, 1, 1, 1, 1, 2, 2, 2, 2, 2, 2, 1, 2, 2, 2, 2, 2, 2, 2, 2,\n",
       "       2, 2, 2, 2, 1, 2, 2, 2, 2, 2, 2, 2, 2, 2, 2, 2, 2, 2, 1, 2, 2, 2, 2,\n",
       "       2, 2, 2, 2, 2, 2, 2, 2, 2, 2, 2, 2])"
      ]
     },
     "execution_count": 14,
     "metadata": {},
     "output_type": "execute_result"
    }
   ],
   "source": [
    "y_pred"
   ]
  },
  {
   "cell_type": "markdown",
   "metadata": {},
   "source": [
    "## Quiz In Lesson"
   ]
  },
  {
   "cell_type": "markdown",
   "metadata": {},
   "source": [
    "### Implement with `sklearn.naive_bayes.GaussianNB`"
   ]
  },
  {
   "cell_type": "code",
   "execution_count": 32,
   "metadata": {
    "collapsed": false
   },
   "outputs": [
    {
     "name": "stdout",
     "output_type": "stream",
     "text": [
      "dict_keys(['states', 'labels'])\n"
     ]
    }
   ],
   "source": [
    "from sklearn.naive_bayes import GaussianNB\n",
    "import json\n",
    "\n",
    "gnb = GaussianNB()\n",
    "\n",
    "# ## load training data\n",
    "# with open('train.json', 'rb') as f:\n",
    "#     j = json.load(f)\n",
    "# # print (j.keys())\n",
    "# X = j['states']\n",
    "# Y = j['labels']\n",
    "\n",
    "with open('train.json') as f:\n",
    "    j = json.load(f)\n",
    "\n",
    "print (j.keys())\n",
    "X_train = j['states']\n",
    "Y_train = j['labels']"
   ]
  },
  {
   "cell_type": "code",
   "execution_count": 33,
   "metadata": {
    "collapsed": false
   },
   "outputs": [
    {
     "data": {
      "text/plain": [
       "[34.76807295828066, 0.8329138124321809, 8.206638634642987, -0.9989611424577053]"
      ]
     },
     "execution_count": 33,
     "metadata": {},
     "output_type": "execute_result"
    }
   ],
   "source": [
    "X_train[0]"
   ]
  },
  {
   "cell_type": "code",
   "execution_count": 34,
   "metadata": {
    "collapsed": false
   },
   "outputs": [
    {
     "data": {
      "text/plain": [
       "'left'"
      ]
     },
     "execution_count": 34,
     "metadata": {},
     "output_type": "execute_result"
    }
   ],
   "source": [
    "Y_train[0]"
   ]
  },
  {
   "cell_type": "code",
   "execution_count": 35,
   "metadata": {
    "collapsed": false
   },
   "outputs": [
    {
     "data": {
      "text/plain": [
       "750"
      ]
     },
     "execution_count": 35,
     "metadata": {},
     "output_type": "execute_result"
    }
   ],
   "source": [
    "len(X_train)"
   ]
  },
  {
   "cell_type": "code",
   "execution_count": 38,
   "metadata": {
    "collapsed": false
   },
   "outputs": [],
   "source": [
    "## Load test data\n",
    "with open('test.json') as f:\n",
    "    j = json.load(f)\n",
    "    \n",
    "X_test = j['states']\n",
    "Y_test = j['labels']"
   ]
  },
  {
   "cell_type": "code",
   "execution_count": 39,
   "metadata": {
    "collapsed": false
   },
   "outputs": [
    {
     "data": {
      "text/plain": [
       "[21.274185669072015,\n",
       " 1.2821698906640548,\n",
       " 10.513370658008723,\n",
       " 1.2038825759131897]"
      ]
     },
     "execution_count": 39,
     "metadata": {},
     "output_type": "execute_result"
    }
   ],
   "source": [
    "X_test[0]"
   ]
  },
  {
   "cell_type": "code",
   "execution_count": 40,
   "metadata": {
    "collapsed": false
   },
   "outputs": [
    {
     "data": {
      "text/plain": [
       "'right'"
      ]
     },
     "execution_count": 40,
     "metadata": {},
     "output_type": "execute_result"
    }
   ],
   "source": [
    "Y_test[0]"
   ]
  },
  {
   "cell_type": "code",
   "execution_count": 41,
   "metadata": {
    "collapsed": false
   },
   "outputs": [
    {
     "data": {
      "text/plain": [
       "250"
      ]
     },
     "execution_count": 41,
     "metadata": {},
     "output_type": "execute_result"
    }
   ],
   "source": [
    "len(X_test)"
   ]
  },
  {
   "cell_type": "code",
   "execution_count": 44,
   "metadata": {
    "collapsed": false
   },
   "outputs": [],
   "source": [
    "## train and predict\n",
    "y_pred = gnb.fit(X_train,Y_train).predict(X_test)"
   ]
  },
  {
   "cell_type": "code",
   "execution_count": 45,
   "metadata": {
    "collapsed": false
   },
   "outputs": [
    {
     "data": {
      "text/plain": [
       "array(['right', 'keep', 'left', 'left', 'keep', 'left', 'left', 'keep',\n",
       "       'left', 'right'], \n",
       "      dtype='<U5')"
      ]
     },
     "execution_count": 45,
     "metadata": {},
     "output_type": "execute_result"
    }
   ],
   "source": [
    "y_pred[:10]"
   ]
  },
  {
   "cell_type": "code",
   "execution_count": 47,
   "metadata": {
    "collapsed": false
   },
   "outputs": [
    {
     "name": "stdout",
     "output_type": "stream",
     "text": [
      "You got 84.39999999999999 percent correct\n"
     ]
    }
   ],
   "source": [
    "## evaluate\n",
    "score = 0\n",
    "for predicted , label in zip(y_pred , Y_test):\n",
    "    if predicted == label:\n",
    "        score += 1\n",
    "fraction_correct = float(score) / len(Y_test)\n",
    "print (\"You got {} percent correct\".format(100 * fraction_correct))"
   ]
  },
  {
   "cell_type": "markdown",
   "metadata": {},
   "source": [
    "### Implement from scratch"
   ]
  },
  {
   "cell_type": "code",
   "execution_count": 1,
   "metadata": {
    "collapsed": true
   },
   "outputs": [],
   "source": [
    "import numpy as np\n",
    "import random\n",
    "from math import sqrt, pi, exp\n",
    "\n",
    "## gaussian function\n",
    "def gaussian_prob(obs, mu, sig):\n",
    "    num = (obs - mu)**2\n",
    "    denum = 2*sig**2\n",
    "    norm = 1 / sqrt(2*pi*sig**2)\n",
    "    return norm * exp(-num/denum)"
   ]
  },
  {
   "cell_type": "code",
   "execution_count": 3,
   "metadata": {
    "collapsed": false
   },
   "outputs": [
    {
     "data": {
      "text/plain": [
       "0.24197072451914337"
      ]
     },
     "execution_count": 3,
     "metadata": {},
     "output_type": "execute_result"
    }
   ],
   "source": [
    "gaussian_prob(1, 0, 1)"
   ]
  },
  {
   "cell_type": "code",
   "execution_count": 26,
   "metadata": {
    "collapsed": true
   },
   "outputs": [],
   "source": [
    "## class : gaussian naive bayes\n",
    "\n",
    "class GNB():\n",
    "    def __init__(self):\n",
    "        self.classes = ['left','keep','right']\n",
    "        \n",
    "    def process_vars(self, vars):\n",
    "        # could do something fancy in here, but right now\n",
    "        # s, d, s_dot and d_dot alone give good results\n",
    "        s, d, s_dot, d_dot = vars\n",
    "        return s, d, s_dot, d_dot\n",
    "    \n",
    "    \n",
    "    def train(self, X, Y):\n",
    "        \"\"\"\n",
    "        X is an array of training data, each entry of which is a \n",
    "        length 4 array which represents a snapshot of a vehicle's\n",
    "        s, d, s_dot, and d_dot coordinates.\n",
    "\n",
    "        Y is an array of labels, each of which is either 'left', 'keep',\n",
    "        or 'right'. These labels indicate what maneuver the vehicle was \n",
    "        engaged in during the corresponding training data snapshot. \n",
    "        \"\"\"\n",
    "        num_vars = 4\n",
    "        \n",
    "        # initialize an empty array of arrays. For this problem\n",
    "        # we are looking at three labels and keeping track of 4 \n",
    "        # variables for each (s,d,s_dot,d_dot), so the empty array\n",
    "        # totals_by_label will look like this:\n",
    "\n",
    "        # {\n",
    "        #   \"left\" :[ [s1,s2...],[s_dot1,s_dot2...],[d1,d2,...],[d_dot1,d_dot2,...] ], \n",
    "        #   \"keep\" :[ [s1,s2...],[s_dot1,s_dot2...],[d1,d2,...],[d_dot1,d_dot2,...] ], \n",
    "        #   \"right\":[ [s1,s2...],[s_dot1,s_dot2...],[d1,d2,...],[d_dot1,d_dot2,...] ], \n",
    "        # }\n",
    "\n",
    "        totals_by_label = {\n",
    "            \"left\" : [], \n",
    "            \"keep\" : [],\n",
    "            \"right\": [],\n",
    "        }\n",
    "        \n",
    "        for label in self.classes:\n",
    "            for i in range(num_vars):\n",
    "                totals_by_label[label].append([])\n",
    "                \n",
    "        \n",
    "        for x, label in zip(X,Y):\n",
    "            x = self.process_vars(x)\n",
    "            \n",
    "            for i,val in enumerate(x):\n",
    "                totals_by_label[label][i].append(val)\n",
    "                \n",
    "        # Get the mean and standard deviation for each of the arrays\n",
    "        # we've built up. These will be used as our priors in GNB\n",
    "        # will be means = []\n",
    "        \n",
    "        means = []\n",
    "        stds = []\n",
    "        for i in self.classes:\n",
    "            means.append([])\n",
    "            stds.append([])\n",
    "            for arr in totals_by_label[i]:\n",
    "                mean = np.mean(arr)\n",
    "                std = np.std(arr)\n",
    "                means[-1].append(mean)\n",
    "                stds[-1].append(std)\n",
    "                \n",
    "        self._means = means ## np.array(gnb._means).shape , (3,4)\n",
    "        self._stds = stds  ## np.array(gnb._stds).shape, (3,4)\n",
    "        \n",
    "        \n",
    "    def _predict(self, obs):\n",
    "            \"\"\"\n",
    "            Private method used to assign a probability to each class.\n",
    "            \"\"\"\n",
    "            \n",
    "            probs = []\n",
    "            obs = self.process_vars(obs)\n",
    "            for(means, stds, lab) in zip(self._means, self._stds, self.classes):\n",
    "                product = 1\n",
    "                for mu, sig, o in zip(means, stds, obs):\n",
    "                    likelihood = gaussian_prob(o, mu, sig)\n",
    "                    product *= likelihood\n",
    "                probs.append(product)\n",
    "            t = sum(probs)\n",
    "            return [p/t for p in probs]\n",
    "        \n",
    "    def predict(self, observation):\n",
    "        probs = self._predict(observation)\n",
    "        idx = 0\n",
    "        best_p = 0\n",
    "        for i, p in enumerate(probs):\n",
    "            if p > best_p:\n",
    "                best_p = p\n",
    "                idx = i\n",
    "        names = ['left','keep','right']\n",
    "        return names[idx]        "
   ]
  },
  {
   "cell_type": "markdown",
   "metadata": {},
   "source": [
    "### class GNB() unit test"
   ]
  },
  {
   "cell_type": "code",
   "execution_count": 9,
   "metadata": {
    "collapsed": false
   },
   "outputs": [
    {
     "name": "stdout",
     "output_type": "stream",
     "text": [
      "dict_keys(['states', 'labels'])\n"
     ]
    }
   ],
   "source": [
    "## Load train data\n",
    "import json\n",
    "\n",
    "with open('train.json') as f:\n",
    "    j = json.load(f)\n",
    "\n",
    "print (j.keys())\n",
    "X_train = j['states']\n",
    "Y_train = j['labels']\n",
    "\n",
    "## Load test data\n",
    "with open('test.json') as f:\n",
    "    j = json.load(f)\n",
    "    \n",
    "X_test = j['states']\n",
    "Y_test = j['labels']"
   ]
  },
  {
   "cell_type": "code",
   "execution_count": 14,
   "metadata": {
    "collapsed": false
   },
   "outputs": [],
   "source": [
    "### test data sample\n",
    "x = X_train[0]\n",
    "y=  Y_train[0]"
   ]
  },
  {
   "cell_type": "code",
   "execution_count": 15,
   "metadata": {
    "collapsed": false
   },
   "outputs": [
    {
     "data": {
      "text/plain": [
       "[34.76807295828066, 0.8329138124321809, 8.206638634642987, -0.9989611424577053]"
      ]
     },
     "execution_count": 15,
     "metadata": {},
     "output_type": "execute_result"
    }
   ],
   "source": [
    "x"
   ]
  },
  {
   "cell_type": "code",
   "execution_count": 27,
   "metadata": {
    "collapsed": false
   },
   "outputs": [
    {
     "data": {
      "text/plain": [
       "[19.714133843021123,\n",
       " 5.0518059713027306,\n",
       " 9.9141257688632702,\n",
       " -0.96708726365040631]"
      ]
     },
     "execution_count": 27,
     "metadata": {},
     "output_type": "execute_result"
    }
   ],
   "source": [
    "gnb = GNB()\n",
    "gnb.train(X_train, Y_train)\n",
    "gnb._means[0]"
   ]
  },
  {
   "cell_type": "code",
   "execution_count": 32,
   "metadata": {
    "collapsed": false
   },
   "outputs": [
    {
     "name": "stdout",
     "output_type": "stream",
     "text": [
      "[0.9959381405520635, 1.1522196925886314e-15, 0.004061859447935169]\n",
      "left\n"
     ]
    }
   ],
   "source": [
    "observation = X_test[2]\n",
    "print(gnb._predict(observation))\n",
    "print(gnb.predict(observation))"
   ]
  },
  {
   "cell_type": "markdown",
   "metadata": {},
   "source": [
    "### Final test"
   ]
  },
  {
   "cell_type": "code",
   "execution_count": 34,
   "metadata": {
    "collapsed": false
   },
   "outputs": [
    {
     "name": "stdout",
     "output_type": "stream",
     "text": [
      "dict_keys(['states', 'labels'])\n",
      "You got 84.39999999999999 percent correct\n"
     ]
    }
   ],
   "source": [
    "## Load train data\n",
    "import json\n",
    "\n",
    "with open('train.json') as f:\n",
    "    j = json.load(f)\n",
    "\n",
    "print (j.keys())\n",
    "X_train = j['states']\n",
    "Y_train = j['labels']\n",
    "\n",
    "## Load test data\n",
    "with open('test.json') as f:\n",
    "    j = json.load(f)\n",
    "    \n",
    "X_test = j['states']\n",
    "Y_test = j['labels']\n",
    "\n",
    "gnb = GNB()\n",
    "gnb.train(X_train, Y_train)\n",
    "\n",
    "## evaluate\n",
    "score = 0\n",
    "for coords, label in zip(X_test,Y_test):\n",
    "    predicted = gnb.predict(coords)\n",
    "    if predicted == label:\n",
    "        score += 1\n",
    "fraction_correct = float(score) / len(Y_test)\n",
    "print (\"You got {} percent correct\".format(100 * fraction_correct))"
   ]
  },
  {
   "cell_type": "code",
   "execution_count": null,
   "metadata": {
    "collapsed": true
   },
   "outputs": [],
   "source": []
  }
 ],
 "metadata": {
  "kernelspec": {
   "display_name": "Python 3",
   "language": "python",
   "name": "python3"
  },
  "language_info": {
   "codemirror_mode": {
    "name": "ipython",
    "version": 3
   },
   "file_extension": ".py",
   "mimetype": "text/x-python",
   "name": "python",
   "nbconvert_exporter": "python",
   "pygments_lexer": "ipython3",
   "version": "3.5.2"
  }
 },
 "nbformat": 4,
 "nbformat_minor": 2
}
