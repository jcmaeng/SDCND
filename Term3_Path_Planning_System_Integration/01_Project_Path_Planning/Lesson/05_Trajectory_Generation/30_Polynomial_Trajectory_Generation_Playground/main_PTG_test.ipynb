{
 "cells": [
  {
   "cell_type": "code",
   "execution_count": 6,
   "metadata": {},
   "outputs": [
    {
     "name": "stdout",
     "output_type": "stream",
     "text": [
      "cost for time_diff_cost is \t 0.148885033623\n",
      "cost for s_diff_cost is \t 0.768088559482\n",
      "cost for d_diff_cost is \t 0.444201940287\n",
      "cost for efficiency_cost is \t -0.156109111966\n",
      "cost for max_jerk_cost is \t 0\n",
      "cost for total_jerk_cost is \t 0.128654909926\n",
      "cost for collision_cost is \t 0.0\n",
      "cost for buffer_cost is \t 0.138377973248\n",
      "cost for max_accel_cost is \t 0.271430192695\n",
      "cost for total_accel_cost is \t 0\n"
     ]
    },
    {
     "data": {
      "image/png": "[encoded data removed]",
      "text/plain": [
       "<matplotlib.figure.Figure at 0x766e0f0>"
      ]
     },
     "metadata": {},
     "output_type": "display_data"
    }
   ],
   "source": [
    "from ptg import PTG\n",
    "from helpers import Vehicle, show_trajectory\n",
    "\n",
    "\n",
    "vehicle = Vehicle([0,10,0, 0,0,0])\n",
    "predictions = {0: vehicle}\n",
    "target = 0\n",
    "delta = [0, 0, 0, 0, 0 ,0]\n",
    "start_s = [10, 10, 0]\n",
    "start_d = [4, 0, 0]\n",
    "T = 5.0\n",
    "best = PTG(start_s, start_d, target, delta, T, predictions)\n",
    "show_trajectory(best[0], best[1], best[2], vehicle)"
   ]
  },
  {
   "cell_type": "code",
   "execution_count": null,
   "metadata": {
    "collapsed": true
   },
   "outputs": [],
   "source": []
  }
 ],
 "metadata": {
  "kernelspec": {
   "display_name": "Python 2",
   "language": "python",
   "name": "python2"
  },
  "language_info": {
   "codemirror_mode": {
    "name": "ipython",
    "version": 2
   },
   "file_extension": ".py",
   "mimetype": "text/x-python",
   "name": "python",
   "nbconvert_exporter": "python",
   "pygments_lexer": "ipython2",
   "version": "2.7.13"
  }
 },
 "nbformat": 4,
 "nbformat_minor": 2
}
